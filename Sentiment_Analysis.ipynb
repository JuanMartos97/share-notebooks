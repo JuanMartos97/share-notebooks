{
 "cells": [
  {
   "cell_type": "markdown",
   "metadata": {},
   "source": [
    "**Nombres: Álvaro Castillo Monge, Juan Antonio Martos Navarro**"
   ]
  },
  {
   "cell_type": "markdown",
   "metadata": {},
   "source": [
    "The goal of this set of lab assignments is the extraction of opinions about item aspects from text reviews;\n",
    "specifically, positive and negative opinions about aspects of hotels existing in a collection of Yelp1\n",
    "reviews.\n",
    "The following are examples aspects that may be considered along with some terms that can be used to refer to\n",
    "such aspects:\n",
    "* Amenities: amenities, services, …\n",
    "* Atmosphere: atmosphere, ambiance, …\n",
    "* Bedrooms: room, bedroom, suite …\n",
    "* Facilities: facilities, equipment, …\n",
    "* Location: location, environment, neighborhood, …\n",
    "* Pool: pool, swimming pool, …\n",
    "* Restrooms: restrooms, toilets, …\n",
    "* Shopping: shops, boutiques, stores, …\n",
    "* Staff: staff, employees, receptionist, …\n"
   ]
  },
  {
   "cell_type": "markdown",
   "metadata": {},
   "source": [
    "You are requested to perform the above tasks by means of a program in Python that uses the NLTK toolkit,\n",
    "https://www.nltk.org, https://www.nltk.org/howto, http://www.nltk.org/nltk_data.\n",
    "The final output of the program must be a summary of the opinions made about a particular hotel by users\n",
    "from a given review dataset. You are free to decide the elements and representation of such summary, but at\n",
    "least it should contain the number of positive and negative opinions associated to each aspect of the hotel."
   ]
  },
  {
   "cell_type": "markdown",
   "metadata": {
    "id": "UnpScaNOPaLT"
   },
   "source": [
    "### Assignment 1"
   ]
  },
  {
   "cell_type": "markdown",
   "metadata": {
    "id": "fGxYexTrPaLU"
   },
   "source": [
    "**TASK 1.1**"
   ]
  },
  {
   "cell_type": "code",
   "execution_count": 1,
   "metadata": {
    "colab": {
     "base_uri": "https://localhost:8080/"
    },
    "id": "aLPhLETOPaLU",
    "outputId": "d2f30ef7-1a67-41e2-f08e-607b8ce7f027"
   },
   "outputs": [
    {
     "name": "stdout",
     "output_type": "stream",
     "text": [
      "5034 reviews loaded\n",
      "{'reviewerID': 'qLCpuCWCyPb4G2vN-WZz-Q', 'asin': '8ZwO9VuLDWJOXmtAdc7LXQ', 'summary': 'summary', 'reviewText': \"Great hotel in Central Phoenix for a stay-cation, but not necessarily a place to stay out of town and without a car. Not much around the area, and unless you're familiar with downtown, I would rather have a guest stay in Old Town Scottsdale, etc. BUT if you do stay here, it's awesome. Great boutique rooms. Awesome pool that's happening in the summer. A GREAT rooftop patio bar, and a very very busy lobby with Gallo Blanco attached. A great place to stay, but have a car!\", 'overall': 4.0}\n",
      "qLCpuCWCyPb4G2vN-WZz-Q\n"
     ]
    }
   ],
   "source": [
    "import json\n",
    "\n",
    "with open('yelp_dataset/yelp_hotels.json', encoding='utf-8') as f:\n",
    "    hotels_reviews = json.load(f)\n",
    "f.close()\n",
    "\n",
    "numReviews = len(hotels_reviews)\n",
    "print(numReviews, 'reviews loaded')\n",
    "print(hotels_reviews[0])\n",
    "print(hotels_reviews[0].get('reviewerID'))"
   ]
  },
  {
   "cell_type": "markdown",
   "metadata": {
    "id": "-EgBKyvKPaLW"
   },
   "source": [
    "**TASK 1.2**"
   ]
  },
  {
   "cell_type": "code",
   "execution_count": 2,
   "metadata": {
    "colab": {
     "base_uri": "https://localhost:8080/"
    },
    "id": "Zi_u8o92PaLW",
    "outputId": "eb317cc6-e81d-43c8-e797-143bcfd95dae"
   },
   "outputs": [
    {
     "name": "stdout",
     "output_type": "stream",
     "text": [
      "5579 reviews loaded\n",
      "{'reviewerID': 'Xm8HXE1JHqscXe5BKf0GFQ', 'asin': 'WGNIYMeXPyoWav1APUq7jA', 'summary': 'summary', 'reviewText': \"Good tattoo shop. Clean space, multiple artists to choose from and books of their work are available for you to look though and decide who's style most mirrors what you're looking for. I chose Jet to do a cover-up for me and he worked with me on the design and our ideas and communication flowed very well. He's a very personable guy, is friendly and keeps the conversation going while he's working on you, and he doesn't dick around (read: He starts to work and continues until the job is done). He's very professional and informative. Good customer service combines with talent at the craft.\", 'overall': 4.0}\n",
      "Xm8HXE1JHqscXe5BKf0GFQ\n"
     ]
    }
   ],
   "source": [
    "# Beauty/Spa Resorts\n",
    "spas_reviews = []\n",
    "f = open('yelp_dataset/yelp_beauty_spas.json', 'r', encoding='utf-8')\n",
    "for line in f:\n",
    "    if line != '[\\n' and line != ']': # Skip first and last line\n",
    "        spas_reviews.append(json.loads(line.replace('},', '}')))\n",
    "        \n",
    "f.close()\n",
    "\n",
    "print(len(spas_reviews), 'reviews loaded')\n",
    "print(spas_reviews[0])\n",
    "print(spas_reviews[0].get('reviewerID'))"
   ]
  },
  {
   "cell_type": "code",
   "execution_count": 3,
   "metadata": {
    "colab": {
     "base_uri": "https://localhost:8080/"
    },
    "id": "2OzdJGrUPaLX",
    "outputId": "522b7ff5-1bf3-430e-dadc-c6bd6aa1434f"
   },
   "outputs": [
    {
     "name": "stdout",
     "output_type": "stream",
     "text": [
      "158430 reviews loaded\n",
      "{'reviewerID': 'rLtl8ZkDX5vH5nAx9C3q5Q', 'asin': '9yKzy9PApeiPPOUJEtnvkg', 'summary': 'summary', 'reviewText': 'My wife took me here on my birthday for breakfast and it was excellent. The weather was perfect which made sitting outside overlooking their grounds an absolute pleasure. Our waitress was excellent and our food arrived quickly on the semi-busy Saturday morning. It looked like the place fills up pretty quickly so the earlier you get here the better.Do yourself a favor and get their Bloody Mary. It was phenomenal and simply the best I\\'ve ever had. I\\'m pretty sure they only use ingredients from their garden and blend them fresh when you order it. It was amazing.While EVERYTHING on the menu looks excellent, I had the white truffle scrambled eggs vegetable skillet and it was tasty and delicious. It came with 2 pieces of their griddled bread with was amazing and it absolutely made the meal complete. It was the best \"toast\" I\\'ve ever had.Anyway, I can\\'t wait to go back!', 'overall': 5.0}\n",
      "rLtl8ZkDX5vH5nAx9C3q5Q\n"
     ]
    }
   ],
   "source": [
    "# Restaurants\n",
    "restaurants_reviews = []\n",
    "f = open('yelp_dataset/yelp_restaurants.json', 'r', encoding='utf-8')\n",
    "for line in f:\n",
    "    if line != '[\\n' and line != ']':\n",
    "        restaurants_reviews.append(json.loads(line.replace('},', '}')))\n",
    "        \n",
    "f.close()\n",
    "\n",
    "print(len(restaurants_reviews), 'reviews loaded')\n",
    "print(restaurants_reviews[0])\n",
    "print(restaurants_reviews[0].get('reviewerID'))"
   ]
  },
  {
   "cell_type": "markdown",
   "metadata": {
    "id": "g9fsVdyLPaLZ"
   },
   "source": [
    "### Assignment 2"
   ]
  },
  {
   "cell_type": "markdown",
   "metadata": {
    "id": "PoDZl_mlPaLZ"
   },
   "source": [
    "**TASK 2.1**"
   ]
  },
  {
   "cell_type": "code",
   "execution_count": 4,
   "metadata": {
    "colab": {
     "base_uri": "https://localhost:8080/"
    },
    "id": "6T3kX68UPaLa",
    "outputId": "e34b29ec-d5c4-475d-f537-d7c11d3640da"
   },
   "outputs": [],
   "source": [
    "def get_aspects(url):\n",
    "    aspects = {}\n",
    "\n",
    "    f = open(url, 'r')\n",
    "    for line in f:\n",
    "        tokens = line.rstrip('\\n').split(',')\n",
    "        aspects.setdefault(tokens[0], [])\n",
    "        aspects[tokens[0]].append(tokens[1]) # Save aspects_hotels as a dictionary with key=aspect, value=list of terms.\n",
    "        \n",
    "    f.close()\n",
    "\n",
    "    return aspects\n",
    "\n",
    "aspects_hotels = get_aspects('aspects/aspects_hotels.csv')\n",
    "aspects_spas = get_aspects('aspects/aspects_spas.csv')\n",
    "aspects_restaurants = get_aspects('aspects/aspects_restaurants.csv')"
   ]
  },
  {
   "cell_type": "code",
   "execution_count": 5,
   "metadata": {
    "colab": {
     "base_uri": "https://localhost:8080/"
    },
    "id": "_YqLUNgzPhH5",
    "outputId": "72c56e4f-c894-45ce-de70-8ce37372f042"
   },
   "outputs": [
    {
     "name": "stdout",
     "output_type": "stream",
     "text": [
      "Términos Hoteles: 282\n",
      "Términos Spas: 333\n",
      "Términos Restaurantes: 344\n"
     ]
    }
   ],
   "source": [
    "print('Términos Hoteles: {}'.format(len([terms for sublist in list(aspects_hotels.values()) for terms in sublist])))\n",
    "print('Términos Spas: {}'.format(len([terms for sublist in list(aspects_spas.values()) for terms in sublist])))\n",
    "print('Términos Restaurantes: {}'.format(len([terms for sublist in list(aspects_restaurants.values()) for terms in sublist])))"
   ]
  },
  {
   "cell_type": "markdown",
   "metadata": {
    "id": "-eH8iRTvPaLa"
   },
   "source": [
    "**TASK 2.2 & TASK 2.3**"
   ]
  },
  {
   "cell_type": "code",
   "execution_count": 6,
   "metadata": {
    "colab": {
     "base_uri": "https://localhost:8080/"
    },
    "id": "wxuoVRAJQyOb",
    "outputId": "f003b13d-67fe-40b0-cc4d-96a8ebd85ff9"
   },
   "outputs": [
    {
     "name": "stderr",
     "output_type": "stream",
     "text": [
      "[nltk_data] Downloading package wordnet to\n",
      "[nltk_data]     C:\\Users\\Juan\\AppData\\Roaming\\nltk_data...\n",
      "[nltk_data]   Package wordnet is already up-to-date!\n"
     ]
    },
    {
     "data": {
      "text/plain": [
       "True"
      ]
     },
     "execution_count": 6,
     "metadata": {},
     "output_type": "execute_result"
    }
   ],
   "source": [
    "import nltk\n",
    "nltk.download('wordnet')"
   ]
  },
  {
   "cell_type": "code",
   "execution_count": 7,
   "metadata": {
    "id": "Zq0aM1CDPaLa"
   },
   "outputs": [],
   "source": [
    "from nltk.corpus import wordnet as wn\n",
    "\n",
    "def expand_vocabulary(aspect):\n",
    "    expand_list = []\n",
    "    synsets = wn.synsets(aspect)\n",
    "\n",
    "    # We always take the first definition because it is the most likely.\n",
    "    if synsets:\n",
    "        expand_list.append(synsets[0].lemma_names()) # Get synonyms.\n",
    "\n",
    "        for h in synsets[0].hyponyms():\n",
    "            expand_list.append(h.lemma_names()) # Get hyponyms too.\n",
    "    \n",
    "        for h in synsets[0].hypernyms():\n",
    "            expand_list.append(h.lemma_names()) # Get hypernyms too.\n",
    "\n",
    "    return [element for sublist in expand_list for element in sublist] # return flattened list.\n",
    "\n",
    "# Hoteles\n",
    "for key in aspects_hotels.keys():\n",
    "    aspects_hotels[key] += expand_vocabulary(key) # We expand the list of terms for each aspect.\n",
    "\n",
    "# Spas\n",
    "for key in aspects_spas.keys():\n",
    "    aspects_spas[key] += expand_vocabulary(key)\n",
    "\n",
    "# Restaurantes\n",
    "for key in aspects_restaurants.keys():\n",
    "    aspects_restaurants[key] += expand_vocabulary(key)"
   ]
  },
  {
   "cell_type": "code",
   "execution_count": 8,
   "metadata": {
    "colab": {
     "base_uri": "https://localhost:8080/"
    },
    "id": "a1v8CEX5P8L8",
    "outputId": "80201b08-31ef-4481-93bf-f7fbe51d856e"
   },
   "outputs": [
    {
     "name": "stdout",
     "output_type": "stream",
     "text": [
      "Términos Hoteles (post-expanding): 808\n",
      "Términos Spas (post-expanding): 1018\n",
      "Términos Restaurantes (post-expanding): 1267\n"
     ]
    }
   ],
   "source": [
    "print('Términos Hoteles (post-expanding): {}'.format(len([terms for sublist in list(aspects_hotels.values()) for terms in sublist])))\n",
    "print('Términos Spas (post-expanding): {}'.format(len([terms for sublist in list(aspects_spas.values()) for terms in sublist])))\n",
    "print('Términos Restaurantes (post-expanding): {}'.format(len([terms for sublist in list(aspects_restaurants.values()) for terms in sublist])))"
   ]
  },
  {
   "cell_type": "markdown",
   "metadata": {
    "id": "TddvVHGJDmjn"
   },
   "source": [
    "### Assignment 3"
   ]
  },
  {
   "cell_type": "markdown",
   "metadata": {
    "id": "MXJS2D3_RRGE"
   },
   "source": [
    "**TASK 3.1**"
   ]
  },
  {
   "cell_type": "code",
   "execution_count": 9,
   "metadata": {
    "colab": {
     "base_uri": "https://localhost:8080/"
    },
    "id": "i_8WfwsVRcWs",
    "outputId": "24c7ca16-4a9f-4c27-ba5b-d5de701bbe75"
   },
   "outputs": [
    {
     "name": "stderr",
     "output_type": "stream",
     "text": [
      "[nltk_data] Downloading package opinion_lexicon to\n",
      "[nltk_data]     C:\\Users\\Juan\\AppData\\Roaming\\nltk_data...\n",
      "[nltk_data]   Package opinion_lexicon is already up-to-date!\n"
     ]
    },
    {
     "data": {
      "text/plain": [
       "True"
      ]
     },
     "execution_count": 9,
     "metadata": {},
     "output_type": "execute_result"
    }
   ],
   "source": [
    "nltk.download('opinion_lexicon')"
   ]
  },
  {
   "cell_type": "code",
   "execution_count": 10,
   "metadata": {
    "colab": {
     "base_uri": "https://localhost:8080/"
    },
    "id": "Ac3j21SZRAbE",
    "outputId": "034fc6d1-e916-451c-b384-6ca43af0c8cc"
   },
   "outputs": [
    {
     "name": "stdout",
     "output_type": "stream",
     "text": [
      "['2-faced', '2-faces', 'abnormal', 'abolish', ...]\n",
      "4783\n",
      "['a+', 'abound', 'abounds', 'abundance', 'abundant', ...]\n",
      "2006\n"
     ]
    }
   ],
   "source": [
    "from nltk.corpus import opinion_lexicon\n",
    "\n",
    "negativeWords = opinion_lexicon.negative()\n",
    "positiveWords = opinion_lexicon.positive()\n",
    "print(negativeWords)\n",
    "print(len(negativeWords))\n",
    "print(positiveWords)\n",
    "print(len(positiveWords))"
   ]
  },
  {
   "cell_type": "markdown",
   "metadata": {
    "id": "SbWugTrnO6Pb"
   },
   "source": [
    "**TASK 3.2**"
   ]
  },
  {
   "cell_type": "code",
   "execution_count": 11,
   "metadata": {
    "id": "1CqENxowO78C"
   },
   "outputs": [],
   "source": [
    "modifiers = {}\n",
    "f = open('modifiers/modifiers.csv', 'r')\n",
    "for line in f:\n",
    "    tokens = line.rstrip('\\n').split(',')\n",
    "    modifiers.setdefault(tokens[0], [])\n",
    "    modifiers[tokens[0]].append(tokens[1]) # Save modifiers in dictionary with key=word, value=weigth.\n",
    "f.close()"
   ]
  },
  {
   "cell_type": "markdown",
   "metadata": {
    "id": "XsHI_QzaDp-n"
   },
   "source": [
    "### Assignment 4"
   ]
  },
  {
   "cell_type": "markdown",
   "metadata": {
    "id": "-Ep-55UpSKYl"
   },
   "source": [
    "**TASK 4.1**"
   ]
  },
  {
   "cell_type": "code",
   "execution_count": 12,
   "metadata": {
    "colab": {
     "base_uri": "https://localhost:8080/"
    },
    "id": "xiDVwSn-TAPu",
    "outputId": "5bdf0fe9-5e60-40b7-b758-22312911c901"
   },
   "outputs": [
    {
     "name": "stderr",
     "output_type": "stream",
     "text": [
      "[nltk_data] Downloading package punkt to\n",
      "[nltk_data]     C:\\Users\\Juan\\AppData\\Roaming\\nltk_data...\n",
      "[nltk_data]   Package punkt is already up-to-date!\n",
      "[nltk_data] Downloading package averaged_perceptron_tagger to\n",
      "[nltk_data]     C:\\Users\\Juan\\AppData\\Roaming\\nltk_data...\n",
      "[nltk_data]   Package averaged_perceptron_tagger is already up-to-\n",
      "[nltk_data]       date!\n"
     ]
    },
    {
     "data": {
      "text/plain": [
       "True"
      ]
     },
     "execution_count": 12,
     "metadata": {},
     "output_type": "execute_result"
    }
   ],
   "source": [
    "nltk.download('punkt')\n",
    "nltk.download('averaged_perceptron_tagger')"
   ]
  },
  {
   "cell_type": "code",
   "execution_count": 13,
   "metadata": {
    "colab": {
     "base_uri": "https://localhost:8080/"
    },
    "id": "4pg2ipB-SMe4",
    "outputId": "7abf50e8-b489-49e7-e6bb-ab0b6c76ec27"
   },
   "outputs": [
    {
     "name": "stdout",
     "output_type": "stream",
     "text": [
      "[('Great', 'JJ'), ('hotel', 'NN'), ('in', 'IN'), ('Central', 'NNP'), ('Phoenix', 'NNP'), ('for', 'IN'), ('a', 'DT'), ('stay-cation', 'NN'), (',', ','), ('but', 'CC'), ('not', 'RB'), ('necessarily', 'RB'), ('a', 'DT'), ('place', 'NN'), ('to', 'TO'), ('stay', 'VB'), ('out', 'IN'), ('of', 'IN'), ('town', 'NN'), ('and', 'CC'), ('without', 'IN'), ('a', 'DT'), ('car', 'NN'), ('.', '.')]\n"
     ]
    }
   ],
   "source": [
    "def pos_tagging(text):\n",
    "    sentences = nltk.sent_tokenize(text)\n",
    "    sentences = [nltk.word_tokenize(s) for s in sentences]\n",
    "    sentences = [nltk.pos_tag(s) for s in sentences]\n",
    "    return sentences\n",
    "\n",
    "postagged_sentences = pos_tagging(hotels_reviews[0].get(\"reviewText\"))\n",
    "print(postagged_sentences[0])"
   ]
  },
  {
   "cell_type": "markdown",
   "metadata": {},
   "source": [
    "Para la extracción de las tuplas de las reviews se ha utilizado POS tagging en conjunto con chunking. Se ha modificado el grammar del ejemplo proporcionado en el apéndice C para tener en cuenta otras posibles estructuras. En concreto, se han añadido expresiones regulares para tener en cuenta un posible adverbio que preceda al chunk de adjetivo y nombre (ej: “very good service”), y estructuras del tipo sustantivo + verbo + adverbio + adjetivo (ej: “staff was very friendly”). Para la asignación de la polaridad se ha seguido el siguiente procedimiento:\n",
    "\n",
    "* Se comprueba si el nombre aparece en la lista de términos de algún aspecto.\n",
    "* Se compruebo si el adjetivo aparece en la lista de positiveWords o negativeWords, si el adjetivo aparece en alguna de las listas se le asigna polaridad +0,5 o -0,5 respectivamente.\n",
    "* Por último, si hay un adverbio previo al adjetivo se comprueba en la lista de modificadores el peso asociado a dicho adverbio y se multiplica la polaridad por este peso.\n",
    "\n",
    "De este modo, terminaremos con un valor de polaridad en el intervalo [-1, 1], dependiendo de si la opinión es positiva o negativa y de la intensidad de esta."
   ]
  },
  {
   "cell_type": "code",
   "execution_count": 14,
   "metadata": {
    "id": "dQ1McfoDFmYD"
   },
   "outputs": [],
   "source": [
    "import pandas as pd\n",
    "from tqdm import tqdm\n",
    "\n",
    "grammar = r\"\"\"\n",
    " JJNN: {<RB>?<JJ><NN.*>+} # chunk adverb, adjective and sequences noun\n",
    "       {<NN.*>+<VB.*><JJ>} # chunk sequences noun, verb and adjective \n",
    "       {<NN.*>+<VB.*><RB><JJ>} # chunk sequences noun, verb, adverb and adjective\n",
    "  \n",
    "\"\"\"\n",
    "cp = nltk.RegexpParser(grammar)\n",
    "\n",
    "def check_polarity(child, aspects):\n",
    "    # Initialize default values.\n",
    "    aspect = ''\n",
    "    aspect_term = ''\n",
    "    opinion_word = ''\n",
    "    modifier = '' \n",
    "    multiplier = 1\n",
    "    polarity = 0\n",
    "\n",
    "    for i in range(len(child)):\n",
    "        # Check if there´s a modifier that changes the polarity.\n",
    "        if child[i][1] == 'RB' and child[i][0].lower() in modifiers.keys():\n",
    "            modifier = child[i][0] # Save modifier.\n",
    "            multiplier = float(modifiers[modifier.lower()][0]) # Get weigth of modifier.\n",
    "    \n",
    "        elif child[i][1] == 'JJ': \n",
    "            opinion_word = child[i][0] # Save adjective.\n",
    "            # Check if adjective is in positiveWords or negativeWords to assign polarity.\n",
    "            if opinion_word.lower() in positiveWords: polarity = 0.5 \n",
    "            elif opinion_word.lower() in negativeWords: polarity = -0.5\n",
    "    \n",
    "        elif child[i][1].startswith('NN'):      \n",
    "            for key, terms in aspects.items(): # Iterate through 'aspect': [terms] dictionary.\n",
    "                if child[i][0].lower() in terms: # Check if noun is in terms list.\n",
    "                    aspect = key # Save aspect.\n",
    "                    aspect_term = child[i][0] # Save aspect term.\n",
    "                    continue         \n",
    "           \n",
    "\n",
    "    return {'Aspect': aspect, 'Aspect Term': aspect_term, 'Opinion Word': opinion_word, 'Modifier': modifier, 'Polarity': polarity * multiplier} if aspect and polarity else None\n",
    "\n",
    "def reviews_polarity(reviews, aspects):\n",
    "    results = []\n",
    "\n",
    "    for idx, review in (enumerate(tqdm(reviews, desc='Progress...'))):\n",
    "        # Get all tagged sentences of a review\n",
    "        tagged_senteces = [pos_tagging(review.get('reviewText'))[:]]\n",
    "        lista_tuplas = []\n",
    "        for sentence in tagged_senteces[0]:\n",
    "            chunk_parse = cp.parse(sentence) # Chunking of each sentence.\n",
    "            for child in chunk_parse:\n",
    "                if isinstance(child, nltk.Tree):\n",
    "                    if child.label() == 'JJNN':\n",
    "                        tupla = check_polarity(child, aspects) # Check polarity of JJNN childs.\n",
    "                        if tupla: lista_tuplas.append(tupla)\n",
    "\n",
    "        results.append(lista_tuplas) # List of tuples for each review.\n",
    "  \n",
    "    df = pd.DataFrame(reviews).copy()\n",
    "    df['Tuplas'] = results # Add column with list of tuples to dataframe.\n",
    "    return df"
   ]
  },
  {
   "cell_type": "code",
   "execution_count": 15,
   "metadata": {
    "colab": {
     "base_uri": "https://localhost:8080/",
     "height": 441
    },
    "id": "1YZV6QV-k8Fr",
    "outputId": "92c03868-102e-454f-9388-b9ace23fabe1"
   },
   "outputs": [
    {
     "name": "stderr",
     "output_type": "stream",
     "text": [
      "Progress...: 100%|█████████████████████████████████████████████████████████████████| 5034/5034 [09:06<00:00,  9.21it/s]\n"
     ]
    }
   ],
   "source": [
    "df_hotels = reviews_polarity(hotels_reviews, aspects_hotels)"
   ]
  },
  {
   "cell_type": "code",
   "execution_count": 16,
   "metadata": {
    "colab": {
     "base_uri": "https://localhost:8080/",
     "height": 441
    },
    "id": "inZ3Nb-Yk24A",
    "outputId": "706274e1-0f0b-4731-8236-50cea601d80d"
   },
   "outputs": [
    {
     "name": "stderr",
     "output_type": "stream",
     "text": [
      "Progress...: 100%|█████████████████████████████████████████████████████████████████| 5579/5579 [07:57<00:00, 11.67it/s]\n"
     ]
    }
   ],
   "source": [
    "df_spas = reviews_polarity(spas_reviews, aspects_spas)"
   ]
  },
  {
   "cell_type": "markdown",
   "metadata": {
    "id": "Trw5cDftDs3d"
   },
   "source": [
    "### Assignment 5"
   ]
  },
  {
   "cell_type": "markdown",
   "metadata": {
    "id": "8hEd3J_syyvZ"
   },
   "source": [
    "**TASK 5.1**"
   ]
  },
  {
   "cell_type": "code",
   "execution_count": 17,
   "metadata": {
    "id": "g4_xQIbNXLi6"
   },
   "outputs": [],
   "source": [
    "def show_review_tuples(df, review):\n",
    "    print(review + '\\n')\n",
    "    # Then we search in the dataframe given the reviewText that matches the review given and print\n",
    "    # the list of dictionaries (Tuplas) with dataframe format.\n",
    "    display(pd.DataFrame(df[df['reviewText'] == review]['Tuplas'].tolist()[0]))\n"
   ]
  },
  {
   "cell_type": "code",
   "execution_count": 18,
   "metadata": {
    "colab": {
     "base_uri": "https://localhost:8080/",
     "height": 230
    },
    "id": "mCzoSjfG7M2p",
    "outputId": "6157302b-4698-450b-c870-2166adeceb67"
   },
   "outputs": [
    {
     "name": "stdout",
     "output_type": "stream",
     "text": [
      "We got in late and had an early departure the next day. The staff was very friendly and helpful. Our room was spacious and the bed was very comfy. The amenities were decent, however there was no shower cap or q-tips. There was Wi-Fi, but it wasn't the best.The outside was beautiful, being surrounded by green always makes the desert better.I didn't get the chance to use the swimming pool. I would definitely recommend this hotel. Next time, I will make time to be able to use the swimming pool.\n",
      "\n"
     ]
    },
    {
     "data": {
      "text/html": [
       "<div>\n",
       "<style scoped>\n",
       "    .dataframe tbody tr th:only-of-type {\n",
       "        vertical-align: middle;\n",
       "    }\n",
       "\n",
       "    .dataframe tbody tr th {\n",
       "        vertical-align: top;\n",
       "    }\n",
       "\n",
       "    .dataframe thead th {\n",
       "        text-align: right;\n",
       "    }\n",
       "</style>\n",
       "<table border=\"1\" class=\"dataframe\">\n",
       "  <thead>\n",
       "    <tr style=\"text-align: right;\">\n",
       "      <th></th>\n",
       "      <th>Aspect</th>\n",
       "      <th>Aspect Term</th>\n",
       "      <th>Opinion Word</th>\n",
       "      <th>Modifier</th>\n",
       "      <th>Polarity</th>\n",
       "    </tr>\n",
       "  </thead>\n",
       "  <tbody>\n",
       "    <tr>\n",
       "      <th>0</th>\n",
       "      <td>staff</td>\n",
       "      <td>staff</td>\n",
       "      <td>friendly</td>\n",
       "      <td>very</td>\n",
       "      <td>1.0</td>\n",
       "    </tr>\n",
       "    <tr>\n",
       "      <th>1</th>\n",
       "      <td>parking</td>\n",
       "      <td>room</td>\n",
       "      <td>spacious</td>\n",
       "      <td></td>\n",
       "      <td>0.5</td>\n",
       "    </tr>\n",
       "    <tr>\n",
       "      <th>2</th>\n",
       "      <td>bedrooms</td>\n",
       "      <td>bed</td>\n",
       "      <td>comfy</td>\n",
       "      <td>very</td>\n",
       "      <td>1.0</td>\n",
       "    </tr>\n",
       "    <tr>\n",
       "      <th>3</th>\n",
       "      <td>amenities</td>\n",
       "      <td>amenities</td>\n",
       "      <td>decent</td>\n",
       "      <td></td>\n",
       "      <td>0.5</td>\n",
       "    </tr>\n",
       "  </tbody>\n",
       "</table>\n",
       "</div>"
      ],
      "text/plain": [
       "      Aspect Aspect Term Opinion Word Modifier  Polarity\n",
       "0      staff       staff     friendly     very       1.0\n",
       "1    parking        room     spacious                0.5\n",
       "2   bedrooms         bed        comfy     very       1.0\n",
       "3  amenities   amenities       decent                0.5"
      ]
     },
     "metadata": {},
     "output_type": "display_data"
    }
   ],
   "source": [
    "show_review_tuples(df_hotels, hotels_reviews[100].get('reviewText'))"
   ]
  },
  {
   "cell_type": "code",
   "execution_count": 19,
   "metadata": {
    "colab": {
     "base_uri": "https://localhost:8080/",
     "height": 167
    },
    "id": "nvDOYAX6z6dG",
    "outputId": "a2f06121-31a2-42d0-b9df-c63d4711c00f"
   },
   "outputs": [
    {
     "name": "stdout",
     "output_type": "stream",
     "text": [
      "This salon is really cute. Fridays are 1/2 off single sessions and this is why I keep coming back. I use the level 2 bed and on Fridays its only $5 to tan. I wouldn't come here if they didn't have that though because membership prices are ridiculous and the customer service isn't that great.\n",
      "\n"
     ]
    },
    {
     "data": {
      "text/html": [
       "<div>\n",
       "<style scoped>\n",
       "    .dataframe tbody tr th:only-of-type {\n",
       "        vertical-align: middle;\n",
       "    }\n",
       "\n",
       "    .dataframe tbody tr th {\n",
       "        vertical-align: top;\n",
       "    }\n",
       "\n",
       "    .dataframe thead th {\n",
       "        text-align: right;\n",
       "    }\n",
       "</style>\n",
       "<table border=\"1\" class=\"dataframe\">\n",
       "  <thead>\n",
       "    <tr style=\"text-align: right;\">\n",
       "      <th></th>\n",
       "      <th>Aspect</th>\n",
       "      <th>Aspect Term</th>\n",
       "      <th>Opinion Word</th>\n",
       "      <th>Modifier</th>\n",
       "      <th>Polarity</th>\n",
       "    </tr>\n",
       "  </thead>\n",
       "  <tbody>\n",
       "    <tr>\n",
       "      <th>0</th>\n",
       "      <td>building</td>\n",
       "      <td>salon</td>\n",
       "      <td>cute</td>\n",
       "      <td>really</td>\n",
       "      <td>1.0</td>\n",
       "    </tr>\n",
       "    <tr>\n",
       "      <th>1</th>\n",
       "      <td>price</td>\n",
       "      <td>prices</td>\n",
       "      <td>ridiculous</td>\n",
       "      <td></td>\n",
       "      <td>-0.5</td>\n",
       "    </tr>\n",
       "  </tbody>\n",
       "</table>\n",
       "</div>"
      ],
      "text/plain": [
       "     Aspect Aspect Term Opinion Word Modifier  Polarity\n",
       "0  building       salon         cute   really       1.0\n",
       "1     price      prices   ridiculous               -0.5"
      ]
     },
     "metadata": {},
     "output_type": "display_data"
    }
   ],
   "source": [
    "show_review_tuples(df_spas, spas_reviews[200].get('reviewText'))"
   ]
  },
  {
   "cell_type": "markdown",
   "metadata": {
    "id": "xXbmiA2hy4Ds"
   },
   "source": [
    "**TASK 5.2**"
   ]
  },
  {
   "cell_type": "code",
   "execution_count": 20,
   "metadata": {
    "id": "DhamuwWuy5oL"
   },
   "outputs": [],
   "source": [
    "def aspect_polarity(df, aspect, print_results=False):\n",
    "    # Initialize number of positive and negative opinions.\n",
    "    positive = 0\n",
    "    negative = 0\n",
    "\n",
    "    for asp, polar in zip([tupla['Aspect'] for tuplas in df['Tuplas'] for tupla in tuplas], [tupla['Polarity'] for tuplas in df['Tuplas'] for tupla in tuplas]):\n",
    "        if asp == aspect:\n",
    "            if polar > 0:  positive += 1 # If polarity is greater than 0 then it is a positive opinion.\n",
    "            elif polar < 0:  negative += 1 # If polarity is less than 0 then it is a negative opinion.\n",
    "  \n",
    "    if print_results:  print('Aspect: {}\\n Positives: {}\\t Negatives: {}'.format(aspect, positive, negative))\n",
    "  \n",
    "    return positive, negative"
   ]
  },
  {
   "cell_type": "code",
   "execution_count": 21,
   "metadata": {
    "colab": {
     "base_uri": "https://localhost:8080/"
    },
    "id": "A3Nnovfn7D2p",
    "outputId": "5873cb18-15ce-4125-a69f-3ee0b413022a"
   },
   "outputs": [
    {
     "name": "stdout",
     "output_type": "stream",
     "text": [
      "Aspect: staff\n",
      " Positives: 861\t Negatives: 51\n"
     ]
    }
   ],
   "source": [
    "_ = aspect_polarity(df_hotels, 'staff', print_results=True)"
   ]
  },
  {
   "cell_type": "code",
   "execution_count": 22,
   "metadata": {
    "colab": {
     "base_uri": "https://localhost:8080/"
    },
    "id": "FyAcxq_o0ObX",
    "outputId": "2933ff90-c9ee-49ae-97fd-3ad771a9517a"
   },
   "outputs": [
    {
     "name": "stdout",
     "output_type": "stream",
     "text": [
      "Aspect: price\n",
      " Positives: 422\t Negatives: 31\n"
     ]
    }
   ],
   "source": [
    "_ = aspect_polarity(df_spas, 'price', print_results=True)"
   ]
  },
  {
   "cell_type": "code",
   "execution_count": 23,
   "metadata": {
    "id": "Qx-0gkv5wPJ4"
   },
   "outputs": [],
   "source": [
    "import seaborn as sns\n",
    "import matplotlib.pyplot as plt\n",
    "import numpy as np\n",
    "\n",
    "def plot_opinions(df, aspects):\n",
    "    # Initialize arrays with size = number of aspects.\n",
    "    positives = np.zeros(len(aspects.keys()))\n",
    "    negatives = np.zeros(len(aspects.keys()))\n",
    "    \n",
    "    # Get number of positive and negative opinions for each aspect.\n",
    "    for idx, aspect in enumerate(aspects.keys()): \n",
    "        positives[idx], negatives[idx] = aspect_polarity(df, aspect)\n",
    "\n",
    "    df_results = pd.DataFrame({'Aspects': aspects.keys(), 'Positives': positives, 'Negatives': negatives})\n",
    "    \n",
    "    # Plot Results.\n",
    "    plt.figure(figsize=(10, 7))\n",
    "    sns.barplot(y='Aspects', x='Positives', data=df_results.sort_values(by='Positives', ascending=False), color='blue', orient='h', label='Positive Opinions', alpha=1)\n",
    "    sns.barplot(y='Aspects', x='Negatives', data=df_results.sort_values(by='Positives', ascending=False), color='red', orient='h', label='Negative Opinions', alpha=0.75)\n",
    "    plt.xlabel('Opinions')\n",
    "    plt.legend(loc='best')\n",
    "    plt.title('Aspect Opinions')\n",
    "    plt.tight_layout()\n",
    "    plt.show()"
   ]
  },
  {
   "cell_type": "code",
   "execution_count": 24,
   "metadata": {
    "colab": {
     "base_uri": "https://localhost:8080/",
     "height": 513
    },
    "id": "xJrUMStv6KN1",
    "outputId": "daad42c5-0068-4b4d-adab-3836efb8fbcc"
   },
   "outputs": [
    {
     "data": {
      "image/png": "[encoded data removed]",
      "text/plain": [
       "<Figure size 720x504 with 1 Axes>"
      ]
     },
     "metadata": {
      "needs_background": "light"
     },
     "output_type": "display_data"
    }
   ],
   "source": [
    "plot_opinions(df_hotels, aspects_hotels)"
   ]
  },
  {
   "cell_type": "code",
   "execution_count": 25,
   "metadata": {
    "colab": {
     "base_uri": "https://localhost:8080/",
     "height": 513
    },
    "id": "KrqRXM6koMO8",
    "outputId": "93a041fa-818d-46a8-bec1-d763d55be57b"
   },
   "outputs": [
    {
     "data": {
      "image/png": "[encoded data removed]",
      "text/plain": [
       "<Figure size 720x504 with 1 Axes>"
      ]
     },
     "metadata": {
      "needs_background": "light"
     },
     "output_type": "display_data"
    }
   ],
   "source": [
    "plot_opinions(df_spas, aspects_spas)"
   ]
  }
 ],
 "metadata": {
  "colab": {
   "collapsed_sections": [],
   "name": "nlp2021-lab-04.ipynb",
   "provenance": []
  },
  "kernelspec": {
   "display_name": "Python 3 (ipykernel)",
   "language": "python",
   "name": "python3"
  },
  "language_info": {
   "codemirror_mode": {
    "name": "ipython",
    "version": 3
   },
   "file_extension": ".py",
   "mimetype": "text/x-python",
   "name": "python",
   "nbconvert_exporter": "python",
   "pygments_lexer": "ipython3",
   "version": "3.9.7"
  }
 },
 "nbformat": 4,
 "nbformat_minor": 1
}
